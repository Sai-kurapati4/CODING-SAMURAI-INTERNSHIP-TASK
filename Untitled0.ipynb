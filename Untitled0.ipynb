{
  "cells": [
    {
      "cell_type": "markdown",
      "metadata": {
        "id": "view-in-github",
        "colab_type": "text"
      },
      "source": [
        "<a href=\"https://colab.research.google.com/github/Sai-kurapati4/CODING-SAMURAI-INTERNSHIP-TASK/blob/main/Untitled0.ipynb\" target=\"_parent\"><img src=\"https://colab.research.google.com/assets/colab-badge.svg\" alt=\"Open In Colab\"/></a>"
      ]
    },
    {
      "cell_type": "code",
      "source": [
        "n=int(input(\"enter a number\"))\n",
        "print(\"even\"if n%2==0 else\"odd\")"
      ],
      "metadata": {
        "colab": {
          "base_uri": "https://localhost:8080/"
        },
        "id": "ndx-O9ECWKlR",
        "outputId": "74c29c06-04c2-4722-8223-aaa74c068421"
      },
      "execution_count": null,
      "outputs": [
        {
          "output_type": "stream",
          "name": "stdout",
          "text": [
            "enter a number2\n",
            "even\n"
          ]
        }
      ]
    },
    {
      "cell_type": "code",
      "source": [
        "print(4//3)"
      ],
      "metadata": {
        "colab": {
          "base_uri": "https://localhost:8080/"
        },
        "id": "HUzJBKdBXCxZ",
        "outputId": "cacfad70-ec28-465c-96bb-d6775f6f2e05"
      },
      "execution_count": null,
      "outputs": [
        {
          "output_type": "stream",
          "name": "stdout",
          "text": [
            "1\n"
          ]
        }
      ]
    },
    {
      "cell_type": "markdown",
      "metadata": {
        "id": "L-g-Kvl55778"
      },
      "source": []
    },
    {
      "cell_type": "code",
      "execution_count": null,
      "metadata": {
        "colab": {
          "base_uri": "https://localhost:8080/"
        },
        "id": "NvMvczvbNmBx",
        "outputId": "e681fda5-4e52-417f-ea46-c6fce404aa16"
      },
      "outputs": [
        {
          "name": "stdout",
          "output_type": "stream",
          "text": [
            "second largets value is  25\n",
            "largest value in the list is  30\n"
          ]
        }
      ],
      "source": [
        "\n",
        "numbers = [10, 20, 5, 30,30,25]\n",
        "largest =  float('-inf')\n",
        "second_largest = float('-inf')\n",
        "for num in numbers:\n",
        "    if num > largest:\n",
        "        second_largest = largest\n",
        "        largest = num\n",
        "    elif num > second_largest and num!= largest:\n",
        "        second_largest = num\n",
        "print(\"second largets value is \", second_largest)\n",
        "print(\"largest value in the list is \",largest)"
      ]
    },
    {
      "cell_type": "markdown",
      "metadata": {
        "id": "rEdW6fuaSEU3"
      },
      "source": []
    },
    {
      "cell_type": "markdown",
      "metadata": {
        "id": "vNZLR1B_PKSO"
      },
      "source": [
        "step1:num=10\n",
        "largest=-inf\n",
        "since num > largest\n",
        "sec_lar=-inf\n",
        "largest=10\n",
        "step2:num=20\n",
        "since 20>10\n",
        "sec_larg=10\n",
        "largest=20\n",
        "step3:num=5\n",
        "since num < largest&sec_largest\n",
        "step4:num=30\n",
        "since 30>20\n",
        "sec_largest =20\n",
        "largest =30\n",
        "step5:num=30\n",
        "since 30>30 goes to elif condition\n",
        "30>20&30=30 since the elif conditon does not satisfied returns to the for loop\n",
        "\n"
      ]
    },
    {
      "cell_type": "markdown",
      "metadata": {
        "id": "tctyrVtQ9m6g"
      },
      "source": [
        "random library-otp generator and checker"
      ]
    },
    {
      "cell_type": "code",
      "execution_count": null,
      "metadata": {
        "colab": {
          "base_uri": "https://localhost:8080/"
        },
        "id": "ON7sNEyS9sQ0",
        "outputId": "a03416a6-6b05-45ad-eb3a-86c17b3d9bf4"
      },
      "outputs": [
        {
          "name": "stdout",
          "output_type": "stream",
          "text": [
            "your otp is: 90500\n",
            "enter the otp 643667\n",
            "otp is incorrect\n"
          ]
        }
      ],
      "source": [
        "import random\n",
        "global otp\n",
        "def otp_generator():\n",
        "  otp=random.randint(10000,99999)\n",
        "  print(\"your otp is:\",otp)\n",
        "def otp_checker():\n",
        "  global enter_otp\n",
        "  enter_otp=int(input(\"enter the otp \"))\n",
        "  if otp==enter_otp:\n",
        "    print(\"otp is correct\")\n",
        "  else:\n",
        "    print(\"otp is incorrect\")\n",
        "def main():\n",
        "  otp_generator()\n",
        "  otp_checker()\n",
        "main()"
      ]
    },
    {
      "cell_type": "markdown",
      "metadata": {
        "id": "QJJ70D9551Md"
      },
      "source": [
        "data type changing"
      ]
    },
    {
      "cell_type": "code",
      "execution_count": null,
      "metadata": {
        "colab": {
          "base_uri": "https://localhost:8080/"
        },
        "id": "EA5J6JeR4iXb",
        "outputId": "b3a686a7-1acc-41e6-f86f-7aae5d784447"
      },
      "outputs": [
        {
          "name": "stdout",
          "output_type": "stream",
          "text": [
            "15hi\n"
          ]
        }
      ],
      "source": [
        "from pickle import STRING\n",
        "s=15\n",
        "k=\"hi\"\n",
        "\n",
        "n=str(s)\n",
        "print(n+k)"
      ]
    },
    {
      "cell_type": "markdown",
      "metadata": {
        "id": "QUlw4UmwlEQ6"
      },
      "source": [
        "fibonacci numbers"
      ]
    },
    {
      "cell_type": "code",
      "execution_count": null,
      "metadata": {
        "colab": {
          "base_uri": "https://localhost:8080/"
        },
        "id": "kuZbDWqzlcZp",
        "outputId": "ad6205b0-aaa5-4721-cca3-ba8cb785b339"
      },
      "outputs": [
        {
          "name": "stdout",
          "output_type": "stream",
          "text": [
            "enter n4\n",
            "0\n",
            "1\n",
            "1\n",
            "2\n",
            "3\n",
            "5\n"
          ]
        }
      ],
      "source": [
        "a=0\n",
        "b=1\n",
        "n=int(input(\"enter n\"))\n",
        "print(a)\n",
        "print(b)\n",
        "for  i in range(n):\n",
        "  c=a+b\n",
        "  a=b\n",
        "  b=c\n",
        "  print(c)"
      ]
    },
    {
      "cell_type": "markdown",
      "metadata": {
        "id": "KEeSh2WV_NA-"
      },
      "source": [
        "prime number\n"
      ]
    },
    {
      "cell_type": "code",
      "execution_count": null,
      "metadata": {
        "colab": {
          "base_uri": "https://localhost:8080/"
        },
        "id": "swkJH-TA_P-T",
        "outputId": "29dbee5d-5c5f-4f75-8295-e02bba3c17c2"
      },
      "outputs": [
        {
          "name": "stdout",
          "output_type": "stream",
          "text": [
            "enter a number9\n",
            "prime number\n",
            "not a prime number\n"
          ]
        }
      ],
      "source": [
        "def prime_number():\n",
        "  n=int(input(\"enter a number\"))\n",
        "  if n<2:\n",
        "    print(\"not a prime number\")\n",
        "  else:\n",
        "   for i in range(2,n-1):\n",
        "     if n%i==0:\n",
        "      print(\"not a prime number\")\n",
        "      break\n",
        "     else :\n",
        "      print(\"prime number\")\n",
        "def main():\n",
        "  prime_number()\n",
        "main()"
      ]
    },
    {
      "cell_type": "code",
      "execution_count": null,
      "metadata": {
        "colab": {
          "base_uri": "https://localhost:8080/"
        },
        "id": "XNk39wHWFu98",
        "outputId": "a808ff0b-e5b9-4d62-a9ab-dd1df7f1e627"
      },
      "outputs": [
        {
          "name": "stdout",
          "output_type": "stream",
          "text": [
            "sai\n"
          ]
        }
      ],
      "source": [
        "def prime_number():\n",
        "    n = int(input(\"Enter a number: \"))\n",
        "    if n < 1:\n",
        "        print(\"Enter a positive number\")\n",
        "    elif n == 1:\n",
        "        print(\"1 is not a prime number\")\n",
        "    else:\n",
        "        for i in range(2, n):\n",
        "            if n % i == 0:\n",
        "                print(\"Not a prime number\")\n",
        "                break\n",
        "        else:\n",
        "            print(\"Prime number\")\n",
        "def main():\n",
        "  prime_number()\n",
        "main()\n",
        "num=int(input(\"enter a number\"))\n"
      ]
    },
    {
      "cell_type": "markdown",
      "metadata": {
        "id": "bBj8LXJTNf8m"
      },
      "source": [
        "To shift the number to last."
      ]
    },
    {
      "cell_type": "code",
      "execution_count": null,
      "metadata": {
        "colab": {
          "base_uri": "https://localhost:8080/"
        },
        "id": "7cXIN8yONBrO",
        "outputId": "760df86a-c4e0-4095-b093-d68155926302"
      },
      "outputs": [
        {
          "name": "stdout",
          "output_type": "stream",
          "text": [
            "[1, 5, 6, 3, 2]\n"
          ]
        }
      ],
      "source": [
        "L=[1,2,3,5,6]\n",
        "\n",
        "for i in L:\n",
        "  if i==3:\n",
        "    L.remove(i)\n",
        "    L.append(i)\n",
        "for j in L:\n",
        "  if j==2:\n",
        "    L.remove(j)\n",
        "    L.append(j)\n",
        "print(L)"
      ]
    },
    {
      "cell_type": "code",
      "execution_count": null,
      "metadata": {
        "colab": {
          "base_uri": "https://localhost:8080/"
        },
        "id": "EWBUCBEbeK1f",
        "outputId": "5fcb3bcc-fbdd-4e30-c99f-ff9c042c5c64"
      },
      "outputs": [
        {
          "name": "stdout",
          "output_type": "stream",
          "text": [
            "enter the number of columns 3\n",
            "\n",
            "*\n",
            "**\n"
          ]
        }
      ],
      "source": [
        "\n",
        "i=int(input(\"enter the number of columns \"))\n",
        "n=1\n",
        "for n in range(i):\n",
        "  print(n*\"*\")"
      ]
    },
    {
      "cell_type": "markdown",
      "metadata": {
        "id": "tDgmI0sanFZy"
      },
      "source": [
        "reversing a string"
      ]
    },
    {
      "cell_type": "code",
      "execution_count": null,
      "metadata": {
        "colab": {
          "base_uri": "https://localhost:8080/"
        },
        "id": "mK88jx5vnE9z",
        "outputId": "cd708604-50fd-4b2a-a232-3c3eca66e91e"
      },
      "outputs": [
        {
          "name": "stdout",
          "output_type": "stream",
          "text": [
            "ai ganesh\n",
            "sai  btech\n",
            "s\n",
            "hsenag ias\n",
            "hcetb-\n",
            "hsenag ias hcetb-\n"
          ]
        }
      ],
      "source": [
        "s=\"sai ganesh\"\n",
        "k=\"-btech\"\n",
        "print(s[1:])\n",
        "print(s[:4],k[1:9])\n",
        "print(s[:1])\n",
        "print(s[::-1])\n",
        "print(k[::-1])\n",
        "print(s[::-1],k[::-1])"
      ]
    },
    {
      "cell_type": "markdown",
      "metadata": {
        "id": "epfS0xK_judU"
      },
      "source": [
        "remove duplicates in list\n"
      ]
    },
    {
      "cell_type": "code",
      "execution_count": null,
      "metadata": {
        "colab": {
          "base_uri": "https://localhost:8080/"
        },
        "id": "G_gN4NUrgNQe",
        "outputId": "223e2dea-13f1-4daa-be82-f6072bfa2f05"
      },
      "outputs": [
        {
          "name": "stdout",
          "output_type": "stream",
          "text": [
            "[1, 2, 3, 4, 5]\n"
          ]
        }
      ],
      "source": [
        "first_list = [1, 2, 2, 3, 4, 4, 5]\n",
        "second_list = []\n",
        "\n",
        "for i in first_list:\n",
        "    if i not in second_list:\n",
        "        second_list.append(i)\n",
        "\n",
        "print(second_list)\n"
      ]
    },
    {
      "cell_type": "markdown",
      "metadata": {
        "id": "23b7Ca-CsT9a"
      },
      "source": []
    },
    {
      "cell_type": "code",
      "execution_count": null,
      "metadata": {
        "colab": {
          "base_uri": "https://localhost:8080/"
        },
        "id": "4w-omzLXVIxG",
        "outputId": "f18baab0-61b6-46f8-ade9-caed6ea1f26c"
      },
      "outputs": [
        {
          "name": "stdout",
          "output_type": "stream",
          "text": [
            "enter choicerock\n",
            "You won!\n"
          ]
        }
      ],
      "source": [
        "import random\n",
        "choice=[\"rock\",\"paper\",\"scissors\"]\n",
        "enter=input(\"enter choice\")\n",
        "enter=enter.lower()\n",
        "computer=random.choice(choice)\n",
        "if enter==computer:\n",
        "    print(\"its a draw\")\n",
        "elif(enter == \"rock\" and computer == \"scissors\") or \\\n",
        "     (enter == \"paper\" and computer == \"rock\") or \\\n",
        "     (enter == \"scissors\" and computer == \"paper\"):\n",
        "    print(\"You won!\")\n",
        "else :\n",
        "   print(\"you lost\")\n",
        "   print(\"play again\")\n",
        "   print(\"computer choice is :\",computer)\n"
      ]
    },
    {
      "cell_type": "markdown",
      "metadata": {
        "id": "cCDcw-ZNRVqG"
      },
      "source": [
        "dice"
      ]
    },
    {
      "cell_type": "code",
      "execution_count": null,
      "metadata": {
        "colab": {
          "base_uri": "https://localhost:8080/"
        },
        "id": "zfu4dVKARZmE",
        "outputId": "509345d0-64be-46f2-a45d-428927e27e2c"
      },
      "outputs": [
        {
          "name": "stdout",
          "output_type": "stream",
          "text": [
            "wanna roll the dice:(yes/no)yes\n",
            "dice value is3 \n",
            "wanna roll the dice:(yes/no)no\n",
            "thanks for playing!\n"
          ]
        }
      ],
      "source": [
        "import random\n",
        "while True:\n",
        "  enter=input(\"wanna roll the dice:(yes/no)\")\n",
        "  enter=enter.lower()\n",
        "  if enter ==\"no\":\n",
        "    print(\"thanks for playing!\")\n",
        "    break\n",
        "  else:\n",
        "    dice=random.randint(1,6)\n",
        "    print(f\"dice value is{dice} \")\n"
      ]
    },
    {
      "cell_type": "markdown",
      "metadata": {
        "id": "O5CjgqTPdpsx"
      },
      "source": [
        "quiz"
      ]
    },
    {
      "cell_type": "code",
      "execution_count": null,
      "metadata": {
        "colab": {
          "background_save": true,
          "base_uri": "https://localhost:8080/"
        },
        "collapsed": true,
        "id": "NwMG7yjmdpTI",
        "outputId": "e353da7e-7662-4f62-ae3e-5e1a2f2ed27b"
      },
      "outputs": [
        {
          "name": "stdout",
          "output_type": "stream",
          "text": [
            "what is national animal ?\n",
            "you are wrong\n",
            "answer is tiger\n",
            "what is national bird ?\n"
          ]
        }
      ],
      "source": [
        "def quiz():\n",
        "  q1=\"what is national animal\"\n",
        "  q2=\"what is national bird\"\n",
        "  q3=\"which company manufactures fortuner\"\n",
        "  q4=\"rohit sharma jersey number\"\n",
        "  score=0\n",
        "  print(q1,\"?\")\n",
        "  ans1=input(\"\")\n",
        "  if ans1==\"tiger\":\n",
        "    print(\"you are correct\")\n",
        "    score=score+1\n",
        "  else:\n",
        "    print(\"you are wrong\")\n",
        "    print(\"answer is tiger\")\n",
        "  print(q2,\"?\")\n",
        "  ans2=input(\"\")\n",
        "  if ans2==\"pigeon\":\n",
        "    print(\"you are correct\")\n",
        "    score=score+1\n",
        "  else:\n",
        "    print(\"you are wrong\")\n",
        "    print(\"answer is pigeon\")\n",
        "  print(q3,\"?\")\n",
        "  ans3=input(\"\")\n",
        "  if ans3==\"toyota\":\n",
        "    print(\"you are correct\")\n",
        "    score=score+1\n",
        "  else:\n",
        "    print(\"you are wrong\")\n",
        "    print(\"answer is toyota\")\n",
        "  print(q4,\"?\")\n",
        "  ans4=input(\"\")\n",
        "  if ans4==\"45\":\n",
        "    print(\"you are correct\")\n",
        "    score=score+1\n",
        "  else:\n",
        "    print(\"you are wrong\")\n",
        "    print(\"answer is 45\")\n",
        "  print(\"your score is :\",score)\n",
        "  print(\"thank you for playing\")\n",
        "def main():\n",
        " quiz()\n",
        "main()"
      ]
    },
    {
      "cell_type": "markdown",
      "metadata": {
        "id": "FqjY0Sc-h3Bk"
      },
      "source": []
    },
    {
      "cell_type": "code",
      "execution_count": null,
      "metadata": {
        "id": "TesBdRsYh2kZ",
        "colab": {
          "base_uri": "https://localhost:8080/"
        },
        "outputId": "cc80ba5c-b15e-4c91-b63e-86ea25fb72b2"
      },
      "outputs": [
        {
          "output_type": "stream",
          "name": "stdout",
          "text": [
            "revresed string is: [5, 4, 3, 2, 1]\n"
          ]
        }
      ],
      "source": [
        "\"\"\"first type\"\"\"\n",
        "arr1=[1,2,3,4,5]\n",
        "i=0\n",
        "j=len(arr1)-1\n",
        "while i<j:\n",
        "      arr1[i],arr1[j]=arr1[j],arr1[i]\n",
        "      i+=1\n",
        "      j-=1\n",
        "print(\"revresed string is:\",arr1)\n",
        "\n"
      ]
    },
    {
      "cell_type": "code",
      "source": [
        "arr=[1,2,4,5,6]\n",
        "n=len(arr)+1\n",
        "expected_sum=(n*(n+1))//2\n",
        "actual_sum=0\n",
        "for i in range(0,n-1):\n",
        "  actual_sum+=arr[i]\n",
        "print(expected_sum-actual_sum)"
      ],
      "metadata": {
        "colab": {
          "base_uri": "https://localhost:8080/"
        },
        "id": "HxCKInvBEINN",
        "outputId": "57090531-e66f-4747-a91b-04b6226bf87e"
      },
      "execution_count": null,
      "outputs": [
        {
          "output_type": "stream",
          "name": "stdout",
          "text": [
            "3\n"
          ]
        }
      ]
    },
    {
      "cell_type": "markdown",
      "source": [
        "even function"
      ],
      "metadata": {
        "id": "Z3GP68W5t9ph"
      }
    },
    {
      "cell_type": "code",
      "source": [
        "def isEven(n):\n",
        "    if n % 2 == 0:\n",
        "        print(\"even\")\n",
        "    else:\n",
        "        print(\"odd\")\n",
        "\n",
        "def main():\n",
        "    n = int(input(\"Enter a number: \"))\n",
        "    isEven(n)\n",
        "\n",
        "main()"
      ],
      "metadata": {
        "id": "SefV87U-H9Tt",
        "colab": {
          "base_uri": "https://localhost:8080/"
        },
        "outputId": "341b0ef3-b1ac-4c1c-8939-a3d6e30380e9"
      },
      "execution_count": null,
      "outputs": [
        {
          "output_type": "stream",
          "name": "stdout",
          "text": [
            "Enter a number: 34\n",
            "even\n"
          ]
        }
      ]
    },
    {
      "cell_type": "code",
      "source": [
        "multiplication function"
      ],
      "metadata": {
        "id": "9ovYw8FGuAei"
      },
      "execution_count": null,
      "outputs": []
    },
    {
      "cell_type": "code",
      "source": [
        "def table(n):\n",
        "  for i in range(1,11):\n",
        "    print(f\"{n} * {i} ={n*i}\")\n",
        "def main():\n",
        "  n=int(input(\"enter n\"))\n",
        "  table(n)\n",
        "main()"
      ],
      "metadata": {
        "colab": {
          "base_uri": "https://localhost:8080/"
        },
        "collapsed": true,
        "id": "outLCYYPq94Z",
        "outputId": "c79741e6-f200-4dc6-b260-a4e7be4f3a64"
      },
      "execution_count": null,
      "outputs": [
        {
          "output_type": "stream",
          "name": "stdout",
          "text": [
            "enter n23\n",
            "23 * 1 =23\n",
            "23 * 2 =46\n",
            "23 * 3 =69\n",
            "23 * 4 =92\n",
            "23 * 5 =115\n",
            "23 * 6 =138\n",
            "23 * 7 =161\n",
            "23 * 8 =184\n",
            "23 * 9 =207\n",
            "23 * 10 =230\n"
          ]
        }
      ]
    },
    {
      "cell_type": "markdown",
      "source": [
        "n numbers sum"
      ],
      "metadata": {
        "id": "xfdyWO0CuQFI"
      }
    },
    {
      "cell_type": "code",
      "source": [
        "def sum_numbers(n):\n",
        " sum=0\n",
        " for i in range(n+1):\n",
        "  sum+=i\n",
        " print(sum)\n",
        "def main():\n",
        "  n=int(input(\"enter n\"))\n",
        "  sum_numbers(n)\n",
        "main()\n",
        "\n"
      ],
      "metadata": {
        "colab": {
          "base_uri": "https://localhost:8080/"
        },
        "id": "o0pCm6DDuP1z",
        "outputId": "d6ed5ef1-fbc6-4c15-e2da-8eb6231c3563"
      },
      "execution_count": null,
      "outputs": [
        {
          "output_type": "stream",
          "name": "stdout",
          "text": [
            "enter n9\n",
            "45\n"
          ]
        }
      ]
    },
    {
      "cell_type": "markdown",
      "source": [
        "swap two numbers"
      ],
      "metadata": {
        "id": "mJeeHij7Y1dB"
      }
    },
    {
      "cell_type": "code",
      "source": [
        "from re import A\n",
        "\"\"\"a=17\n",
        "b=16\n",
        "a,b=b,a\n",
        "print(a)\n",
        "\"\"\"\n",
        "a=18\n",
        "b=98\n",
        "c=a\n",
        "a=b\n",
        "b=c\n",
        "print(a)"
      ],
      "metadata": {
        "colab": {
          "base_uri": "https://localhost:8080/"
        },
        "id": "rSjf0rueY3Lc",
        "outputId": "67bd6f62-4ffe-436d-975f-e9aca8e601ab"
      },
      "execution_count": null,
      "outputs": [
        {
          "output_type": "stream",
          "name": "stdout",
          "text": [
            "98\n"
          ]
        }
      ]
    },
    {
      "cell_type": "code",
      "source": [
        "def add(x, y):\n",
        "    return x + y\n",
        "\n",
        "def subtract(x, y):\n",
        "    return x - y\n",
        "\n",
        "def multiply(x, y):\n",
        "    return x * y\n",
        "\n",
        "def divide(x, y):\n",
        "    if y != 0:\n",
        "        return x / y\n",
        "    else:\n",
        "        return \"Cannot divide by zero\"\n",
        "\n",
        "print(\"Welcome to Simple Calculator!\")\n",
        "print(\"Select Operation:\")\n",
        "print(\"1. Add\")\n",
        "print(\"2. Subtract\")\n",
        "print(\"3. Multiply\")\n",
        "print(\"4. Divide\")\n",
        "\n",
        "choice = input(\"Enter choice (1/2/3/4): \")\n",
        "\n",
        "num1 = float(input(\"Enter first number: \"))\n",
        "num2 = float(input(\"Enter second number: \"))\n",
        "\n",
        "if choice == '1':\n",
        "    print(\"Result:\", add(num1, num2))\n",
        "elif choice == '2':\n",
        "    print(\"Result:\", subtract(num1, num2))\n",
        "elif choice == '3':\n",
        "    print(\"Result:\", multiply(num1, num2))\n",
        "elif choice == '4':\n",
        "    print(\"Result:\", divide(num1, num2))\n",
        "else:\n",
        "    print(\"Invalid input\")\n"
      ],
      "metadata": {
        "id": "uUYO0zsE6y97"
      },
      "execution_count": null,
      "outputs": []
    }
  ],
  "metadata": {
    "colab": {
      "provenance": [],
      "authorship_tag": "ABX9TyM76qR/enanljuRGyNRB8S5",
      "include_colab_link": true
    },
    "kernelspec": {
      "display_name": "Python 3",
      "name": "python3"
    },
    "language_info": {
      "name": "python"
    }
  },
  "nbformat": 4,
  "nbformat_minor": 0
}